{
 "cells": [
  {
   "cell_type": "markdown",
   "metadata": {},
   "source": [
    "\n",
    "<h1>Úloha 2: Test hypotézy (až 10 bodov)<h1>\n",
    "<h2>Autor: Simon Lapšanský<h2>\n",
    "\n",
    "\n",
    "<h3>Overte hypotézou &#x1D6D8;&#xB2; s istotou 95%:<h3>\n",
    "\n",
    "<h4>Hypotéza 1:<h4>\n",
    "<p>Na silnicích první třídy se při nehodách umíralo se stejnou pravděpodobností jako dálnicích.<p>\n",
    "<br>\n",
    "<p>Podotázka:<p>\n",
    "<p>určíte, jestli nehody na silnicích 1. třídy vedly častěji či méně často k fatální nehodě.<p>\n",
    "\n",
    "\n",
    "Import potrebných knižníc"
   ]
  },
  {
   "cell_type": "code",
   "execution_count": null,
   "metadata": {},
   "outputs": [],
   "source": [
    "import pandas as pd\n",
    "import scipy.stats as st"
   ]
  },
  {
   "cell_type": "markdown",
   "metadata": {},
   "source": [
    "Načítanie DataFrame zo súboru accidents.pkl.gz"
   ]
  },
  {
   "cell_type": "code",
   "execution_count": null,
   "metadata": {},
   "outputs": [],
   "source": [
    "df = pd.read_pickle(\"accidents.pkl.gz\")\n",
    "df"
   ]
  },
  {
   "cell_type": "markdown",
   "metadata": {},
   "source": [
    "Musíme sa zbaviť nehôd, ktoré sa stali na inej ceste ako diaľnici a 1. triedy"
   ]
  },
  {
   "cell_type": "code",
   "execution_count": null,
   "metadata": {},
   "outputs": [],
   "source": [
    "df_hyp1 = df[df.p36 <= 1]\n",
    "df_hyp1\n"
   ]
  },
  {
   "cell_type": "markdown",
   "metadata": {},
   "source": [
    "Vytvoríme si nový stĺpec pre nehody, ktoré sa stali na ceste 1. triedy a pre tie, ktoré sa stali na diaľnici\n",
    "Ak boli nehody fatálne, tak sa hodnota nastaví na True, inak False "
   ]
  },
  {
   "cell_type": "code",
   "execution_count": null,
   "metadata": {},
   "outputs": [],
   "source": [
    "df_hyp1[\"highway\"] = (df_hyp1.p36 == 0)\n",
    "df_hyp1[\"fatal\"] = (df_hyp1.p13a > 0)"
   ]
  },
  {
   "cell_type": "markdown",
   "metadata": {},
   "source": [
    "Vytvoríme kontingenčnú tabulku pomocou funkcie crosstab() z knižnice pandas, do ktorej pridáme fatálne nehody na dialnici a na ceste 1. triedy"
   ]
  },
  {
   "cell_type": "code",
   "execution_count": null,
   "metadata": {},
   "outputs": [],
   "source": [
    "ct = pd.crosstab(df_hyp1[\"highway\"], df_hyp1[\"fatal\"])\n",
    "ct"
   ]
  },
  {
   "cell_type": "markdown",
   "metadata": {},
   "source": [
    "Pomocou funkcie chi2_contingency vypočítame hypotézu &#x1D6D8;&#xB2;, z tejto funkcie sme schopný získať p-hodnotu, pomocou ktorej vieme vyhodnotiť hypotézu.\n",
    "Z poľa expected vieme zistiť či nehody na ceste prvej triedy viedli častejšie k fatálnej nehode."
   ]
  },
  {
   "cell_type": "code",
   "execution_count": null,
   "metadata": {},
   "outputs": [],
   "source": [
    "result = st.chi2_contingency(ct)\n",
    "result"
   ]
  },
  {
   "cell_type": "markdown",
   "metadata": {},
   "source": [
    "Odpoveď na podotázku získame porovnaním fatálnych nehôd na cestách prvej triedy a expected hodnotamy z testu hypotézy &#x1D6D8;&#xB2;"
   ]
  },
  {
   "cell_type": "code",
   "execution_count": null,
   "metadata": {},
   "outputs": [],
   "source": [
    "\n",
    "if ct.loc[0][1] < result[3][0][1]:\n",
    "    print(\"Nehody na cestách prvej triedy viedli menej často k fatálnej nehode\")\n",
    "else:\n",
    "    print(\"Nehody na cestách prvej triedy viedli častejšie k fatálnej nehode\")\n"
   ]
  },
  {
   "cell_type": "markdown",
   "metadata": {},
   "source": [
    "Vyhodnotíme hypotézu pomocou p-hodnoty"
   ]
  },
  {
   "cell_type": "code",
   "execution_count": null,
   "metadata": {},
   "outputs": [],
   "source": [
    "if result[1] < 0.05:\n",
    "    print(\"1. Hypotéza je Zamietnutá\")\n",
    "else:\n",
    "    print(\"1. Hypotéza je Potvrdená\")"
   ]
  },
  {
   "cell_type": "markdown",
   "metadata": {},
   "source": [
    "<h1>Záver:<h1> hypotéza bola zamietnutá a nehody na cestách prvej triedy boli fatálnejšie."
   ]
  }
 ],
 "metadata": {
  "interpreter": {
   "hash": "e4bfc4261fa24b356d14805450a62aa4bb9f023fa9faf58499f5b32959a014fc"
  },
  "kernelspec": {
   "display_name": "Python 3.9.9 64-bit (windows store)",
   "language": "python",
   "name": "python3"
  },
  "language_info": {
   "codemirror_mode": {
    "name": "ipython",
    "version": 3
   },
   "file_extension": ".py",
   "mimetype": "text/x-python",
   "name": "python",
   "nbconvert_exporter": "python",
   "pygments_lexer": "ipython3",
   "version": "3.9.9"
  },
  "orig_nbformat": 4
 },
 "nbformat": 4,
 "nbformat_minor": 2
}
